{
 "cells": [
  {
   "cell_type": "code",
   "execution_count": 42,
   "metadata": {},
   "outputs": [
    {
     "name": "stdout",
     "output_type": "stream",
     "text": [
      "Root Mean Squared Error on Test Set: 433.5443969594437\n"
     ]
    }
   ],
   "source": [
    "# Import necessary libraries\n",
    "import numpy as np\n",
    "import pandas as pd\n",
    "from sklearn.compose import ColumnTransformer\n",
    "from sklearn.ensemble import RandomForestClassifier, RandomForestRegressor\n",
    "from sklearn.impute import SimpleImputer\n",
    "from sklearn.linear_model import (\n",
    "    LinearRegression,  # noqa: F401\n",
    "    LogisticRegression,\n",
    ")\n",
    "from sklearn.metrics import mean_squared_error\n",
    "from sklearn.model_selection import KFold, cross_val_score, train_test_split\n",
    "from sklearn.pipeline import Pipeline\n",
    "from sklearn.preprocessing import OneHotEncoder, StandardScaler\n",
    "\n",
    "# Load your dataset\n",
    "# Replace 'your_dataset.csv' with the actual filename\n",
    "# Making a initialization of class\n",
    "from src.chip_analysis.data_summary import DataProcess\n",
    "\n",
    "## Load my dataset and put my own path here\n",
    "my_file_path = 'https://raw.githubusercontent.com/Zhengnan817/Project-3-Data-Reconstruction-and-Analysis/main/src/chip_analysis/data/chip_dataset.csv'\n",
    "cpu_table = DataProcess(my_file_path)\n",
    "df = cpu_table.view_data()\n",
    "# df['Release Date'] = pd.to_datetime(df['Release Date'],format='%m/%d/%y')\n",
    "columns_to_drop = ['Product','Vendor']\n",
    "df_new = df.drop(columns=columns_to_drop)\n",
    "gpu_data = df_new[df_new['Type'] == 'GPU']\n",
    "gpu_data = gpu_data.drop(columns=['Type'])\n",
    "cpu_data = df_new[df_new['Type'] == 'CPU']\n",
    "cpu_data = cpu_data.drop(columns=['Type'])\n",
    "gpu_data.head()\n",
    "# Define features and target variable\n",
    "# Separate features and target\n",
    "X = cpu_data[[\"Release Date\", \"Process Size\",  \"Die Size\", \"Transistors\"]]\n",
    "y = cpu_data[\"Freq\"]\n",
    "\n",
    "# Define preprocessor for numerical and categorical features\n",
    "numeric_features = [\"Process Size\", \"Die Size\", \"Transistors\"]\n",
    "numeric_transformer = Pipeline(steps=[\n",
    "    ('imputer', SimpleImputer(strategy='median')),\n",
    "    ('scaler', StandardScaler())\n",
    "])\n",
    "\n",
    "categorical_features = [\"Release Date\"]\n",
    "categorical_transformer = Pipeline(steps=[\n",
    "    ('imputer', SimpleImputer(strategy='constant', fill_value='missing')),\n",
    "    ('onehot', OneHotEncoder(handle_unknown='ignore'))\n",
    "])\n",
    "\n",
    "preprocessor = ColumnTransformer(\n",
    "    transformers=[\n",
    "        ('num', numeric_transformer, numeric_features),\n",
    "        ('cat', categorical_transformer, categorical_features)\n",
    "    ])\n",
    "\n",
    "# Define the model\n",
    "model = RandomForestRegressor()\n",
    "\n",
    "# Create the pipeline\n",
    "pipeline = Pipeline(steps=[('preprocessor', preprocessor),\n",
    "                            ('model', model)])\n",
    "\n",
    "# Split the data into training and testing sets\n",
    "X_train, X_test, y_train, y_test = train_test_split(X, y, test_size=0.2, random_state=42)\n",
    "\n",
    "# Fit the model on the training set\n",
    "pipeline.fit(X_train, y_train)\n",
    "\n",
    "# Evaluate the model on the testing set\n",
    "y_pred = pipeline.predict(X_test)\n",
    "mse = mean_squared_error(y_test, y_pred)\n",
    "rmse = np.sqrt(mse)\n",
    "print(f\"Root Mean Squared Error on Test Set: {rmse}\")"
   ]
  }
 ],
 "metadata": {
  "kernelspec": {
   "display_name": "Python 3",
   "language": "python",
   "name": "python3"
  },
  "language_info": {
   "codemirror_mode": {
    "name": "ipython",
    "version": 3
   },
   "file_extension": ".py",
   "mimetype": "text/x-python",
   "name": "python",
   "nbconvert_exporter": "python",
   "pygments_lexer": "ipython3",
   "version": "3.11.5"
  }
 },
 "nbformat": 4,
 "nbformat_minor": 2
}
